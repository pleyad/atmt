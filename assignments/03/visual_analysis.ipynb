{
 "cells": [
  {
   "cell_type": "code",
   "execution_count": 9,
   "metadata": {},
   "outputs": [],
   "source": [
    "import matplotlib\n",
    "import pandas as pd\n",
    "from sacrebleu.metrics import BLEU\n",
    "from typing import Generator, Tuple"
   ]
  },
  {
   "cell_type": "code",
   "execution_count": 10,
   "metadata": {},
   "outputs": [],
   "source": [
    "SOURCES = \"../../data/en-fr/raw/test.fr\"\n",
    "HYPOTHESES = \"baseline/translations.txt\"\n",
    "REFERENCES = \"../../data/en-fr/raw/test.en\""
   ]
  },
  {
   "cell_type": "code",
   "execution_count": 14,
   "metadata": {},
   "outputs": [],
   "source": [
    "def ohr_generator() -> Generator[Tuple, None, None]:\n",
    "    with open(SOURCES, \"r\") as sources:\n",
    "        with open(HYPOTHESES, \"r\") as hypotheses:\n",
    "            with open(REFERENCES, \"r\") as references:\n",
    "                for s, h, r in zip(sources, hypotheses, references):\n",
    "                    yield s.strip(), h.strip(), r.strip()\n",
    "\n",
    "shr = [x for x in ohr_generator()]\n",
    "df = pd.DataFrame(shr, columns=[\"source\", \"hypothesis\", \"reference\"])\n",
    "            "
   ]
  },
  {
   "cell_type": "code",
   "execution_count": 15,
   "metadata": {},
   "outputs": [
    {
     "data": {
      "text/html": [
       "<div>\n",
       "<style scoped>\n",
       "    .dataframe tbody tr th:only-of-type {\n",
       "        vertical-align: middle;\n",
       "    }\n",
       "\n",
       "    .dataframe tbody tr th {\n",
       "        vertical-align: top;\n",
       "    }\n",
       "\n",
       "    .dataframe thead th {\n",
       "        text-align: right;\n",
       "    }\n",
       "</style>\n",
       "<table border=\"1\" class=\"dataframe\">\n",
       "  <thead>\n",
       "    <tr style=\"text-align: right;\">\n",
       "      <th></th>\n",
       "      <th>source</th>\n",
       "      <th>hypothesis</th>\n",
       "      <th>reference</th>\n",
       "    </tr>\n",
       "  </thead>\n",
       "  <tbody>\n",
       "    <tr>\n",
       "      <th>0</th>\n",
       "      <td>Linda va être ici.</td>\n",
       "      <td>I &amp;apos;m going to be here for a here .</td>\n",
       "      <td>Linda will be here.</td>\n",
       "    </tr>\n",
       "    <tr>\n",
       "      <th>1</th>\n",
       "      <td>Je crains que vous ne soyez descendu au mauvai...</td>\n",
       "      <td>I &amp;apos;m afraid that you don &amp;apos;t be to be...</td>\n",
       "      <td>I'm afraid you got off at the wrong place.</td>\n",
       "    </tr>\n",
       "    <tr>\n",
       "      <th>2</th>\n",
       "      <td>Je ferme la porte ?</td>\n",
       "      <td>do I take the door ?</td>\n",
       "      <td>Shall I close the door?</td>\n",
       "    </tr>\n",
       "    <tr>\n",
       "      <th>3</th>\n",
       "      <td>Il abuse de son autorité.</td>\n",
       "      <td>he &amp;apos;s trying to his mother of his mother .</td>\n",
       "      <td>He abuses his authority.</td>\n",
       "    </tr>\n",
       "    <tr>\n",
       "      <th>4</th>\n",
       "      <td>Il est plus grand que tous les autres garçons.</td>\n",
       "      <td>he is more than all the others we &amp;apos;re tal...</td>\n",
       "      <td>He is taller than any other boy.</td>\n",
       "    </tr>\n",
       "  </tbody>\n",
       "</table>\n",
       "</div>"
      ],
      "text/plain": [
       "                                              source  \\\n",
       "0                                 Linda va être ici.   \n",
       "1  Je crains que vous ne soyez descendu au mauvai...   \n",
       "2                                Je ferme la porte ?   \n",
       "3                          Il abuse de son autorité.   \n",
       "4     Il est plus grand que tous les autres garçons.   \n",
       "\n",
       "                                          hypothesis  \\\n",
       "0            I &apos;m going to be here for a here .   \n",
       "1  I &apos;m afraid that you don &apos;t be to be...   \n",
       "2                               do I take the door ?   \n",
       "3    he &apos;s trying to his mother of his mother .   \n",
       "4  he is more than all the others we &apos;re tal...   \n",
       "\n",
       "                                    reference  \n",
       "0                         Linda will be here.  \n",
       "1  I'm afraid you got off at the wrong place.  \n",
       "2                     Shall I close the door?  \n",
       "3                    He abuses his authority.  \n",
       "4            He is taller than any other boy.  "
      ]
     },
     "execution_count": 15,
     "metadata": {},
     "output_type": "execute_result"
    }
   ],
   "source": [
    "df.head()"
   ]
  }
 ],
 "metadata": {
  "interpreter": {
   "hash": "f1b7606d44c036d2dcdd13cfd54e2ae3c6cba7a3c75ad1bea855ee0bb71732ba"
  },
  "kernelspec": {
   "display_name": "Python 3.8.5 64-bit ('atmt36': venv)",
   "name": "python3"
  },
  "language_info": {
   "codemirror_mode": {
    "name": "ipython",
    "version": 3
   },
   "file_extension": ".py",
   "mimetype": "text/x-python",
   "name": "python",
   "nbconvert_exporter": "python",
   "pygments_lexer": "ipython3",
   "version": "3.8.5"
  },
  "orig_nbformat": 4
 },
 "nbformat": 4,
 "nbformat_minor": 2
}
