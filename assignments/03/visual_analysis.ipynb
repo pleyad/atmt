{
 "cells": [
  {
   "cell_type": "code",
   "execution_count": 1,
   "metadata": {},
   "outputs": [],
   "source": [
    "import pandas as pd\n",
    "from sacrebleu.metrics import BLEU\n",
    "from typing import Generator, Tuple"
   ]
  },
  {
   "cell_type": "code",
   "execution_count": 2,
   "metadata": {},
   "outputs": [],
   "source": [
    "SOURCES = \"../../data/en-fr/raw/test.fr\"\n",
    "HYPOTHESES = \"baseline/translations.p.txt\"\n",
    "REFERENCES = \"../../data/en-fr/raw/test.en\""
   ]
  },
  {
   "cell_type": "code",
   "execution_count": 3,
   "metadata": {},
   "outputs": [],
   "source": [
    "def shr_generator() -> Generator[Tuple[str, str, str], None, None]:\n",
    "    with open(SOURCES, \"r\") as sources:\n",
    "        with open(HYPOTHESES, \"r\") as hypotheses:\n",
    "            with open(REFERENCES, \"r\") as references:\n",
    "                for s, h, r in zip(sources, hypotheses, references):\n",
    "                    yield s.strip(), h.strip(), r.strip()\n",
    "\n",
    "shr = [x for x in shr_generator()]\n",
    "df = pd.DataFrame(shr, columns=[\"source\", \"hypothesis\", \"reference\"])\n",
    "            "
   ]
  },
  {
   "cell_type": "code",
   "execution_count": 4,
   "metadata": {},
   "outputs": [
    {
     "data": {
      "text/html": [
       "<div>\n",
       "<style scoped>\n",
       "    .dataframe tbody tr th:only-of-type {\n",
       "        vertical-align: middle;\n",
       "    }\n",
       "\n",
       "    .dataframe tbody tr th {\n",
       "        vertical-align: top;\n",
       "    }\n",
       "\n",
       "    .dataframe thead th {\n",
       "        text-align: right;\n",
       "    }\n",
       "</style>\n",
       "<table border=\"1\" class=\"dataframe\">\n",
       "  <thead>\n",
       "    <tr style=\"text-align: right;\">\n",
       "      <th></th>\n",
       "      <th>source</th>\n",
       "      <th>hypothesis</th>\n",
       "      <th>reference</th>\n",
       "      <th>bleu</th>\n",
       "    </tr>\n",
       "  </thead>\n",
       "  <tbody>\n",
       "    <tr>\n",
       "      <th>0</th>\n",
       "      <td>Linda va être ici.</td>\n",
       "      <td>I'm going to be here for a here.</td>\n",
       "      <td>Linda will be here.</td>\n",
       "      <td>12.549311</td>\n",
       "    </tr>\n",
       "    <tr>\n",
       "      <th>1</th>\n",
       "      <td>Je crains que vous ne soyez descendu au mauvai...</td>\n",
       "      <td>I'm afraid that you don't be to be right now.</td>\n",
       "      <td>I'm afraid you got off at the wrong place.</td>\n",
       "      <td>8.913766</td>\n",
       "    </tr>\n",
       "    <tr>\n",
       "      <th>2</th>\n",
       "      <td>Je ferme la porte ?</td>\n",
       "      <td>Do I take the door?</td>\n",
       "      <td>Shall I close the door?</td>\n",
       "      <td>32.466792</td>\n",
       "    </tr>\n",
       "    <tr>\n",
       "      <th>3</th>\n",
       "      <td>Il abuse de son autorité.</td>\n",
       "      <td>He's trying to his mother of his mother.</td>\n",
       "      <td>He abuses his authority.</td>\n",
       "      <td>5.669791</td>\n",
       "    </tr>\n",
       "    <tr>\n",
       "      <th>4</th>\n",
       "      <td>Il est plus grand que tous les autres garçons.</td>\n",
       "      <td>He is more than all the others we're taller th...</td>\n",
       "      <td>He is taller than any other boy.</td>\n",
       "      <td>9.238430</td>\n",
       "    </tr>\n",
       "  </tbody>\n",
       "</table>\n",
       "</div>"
      ],
      "text/plain": [
       "                                              source  \\\n",
       "0                                 Linda va être ici.   \n",
       "1  Je crains que vous ne soyez descendu au mauvai...   \n",
       "2                                Je ferme la porte ?   \n",
       "3                          Il abuse de son autorité.   \n",
       "4     Il est plus grand que tous les autres garçons.   \n",
       "\n",
       "                                          hypothesis  \\\n",
       "0                   I'm going to be here for a here.   \n",
       "1      I'm afraid that you don't be to be right now.   \n",
       "2                                Do I take the door?   \n",
       "3           He's trying to his mother of his mother.   \n",
       "4  He is more than all the others we're taller th...   \n",
       "\n",
       "                                    reference       bleu  \n",
       "0                         Linda will be here.  12.549311  \n",
       "1  I'm afraid you got off at the wrong place.   8.913766  \n",
       "2                     Shall I close the door?  32.466792  \n",
       "3                    He abuses his authority.   5.669791  \n",
       "4            He is taller than any other boy.   9.238430  "
      ]
     },
     "execution_count": 4,
     "metadata": {},
     "output_type": "execute_result"
    }
   ],
   "source": [
    "bleu = BLEU(effective_order=True)\n",
    "\n",
    "def add_bleu(row):\n",
    "    b_score = bleu.sentence_score(row[\"hypothesis\"], [row[\"reference\"]])\n",
    "    return b_score.score\n",
    "\n",
    "df[\"bleu\"] = df.apply(lambda row: add_bleu(row), axis=1)\n",
    "df.head()\n",
    "    "
   ]
  },
  {
   "cell_type": "code",
   "execution_count": 5,
   "metadata": {},
   "outputs": [],
   "source": [
    "df[\"source_len\"] = df.source.apply(lambda x: len(str(x)))"
   ]
  },
  {
   "cell_type": "code",
   "execution_count": 6,
   "metadata": {},
   "outputs": [
    {
     "data": {
      "text/plain": [
       "<AxesSubplot:xlabel='source_len', ylabel='bleu'>"
      ]
     },
     "execution_count": 6,
     "metadata": {},
     "output_type": "execute_result"
    },
    {
     "data": {
      "image/png": "[encoded data removed]",
      "text/plain": [
       "<Figure size 432x288 with 1 Axes>"
      ]
     },
     "metadata": {
      "needs_background": "light"
     },
     "output_type": "display_data"
    }
   ],
   "source": [
    "df.plot.scatter(\"source_len\", \"bleu\")"
   ]
  },
  {
   "cell_type": "code",
   "execution_count": 21,
   "metadata": {},
   "outputs": [
    {
     "data": {
      "text/plain": [
       "<AxesSubplot:xlabel='source_len'>"
      ]
     },
     "execution_count": 21,
     "metadata": {},
     "output_type": "execute_result"
    },
    {
     "data": {
      "image/png": "[encoded data removed]",
      "text/plain": [
       "<Figure size 432x288 with 1 Axes>"
      ]
     },
     "metadata": {
      "needs_background": "light"
     },
     "output_type": "display_data"
    }
   ],
   "source": [
    "#from matplotlib import pyplot as plt\n",
    "\n",
    "bins = list(range(0,150,10))\n",
    "grouped = df.groupby(pd.cut(df[\"source_len\"], bins=bins)).mean()\n",
    "grouped[\"bleu\"].plot()\n"
   ]
  },
  {
   "cell_type": "code",
   "execution_count": null,
   "metadata": {},
   "outputs": [
    {
     "data": {
      "text/html": [
       "<div>\n",
       "<style scoped>\n",
       "    .dataframe tbody tr th:only-of-type {\n",
       "        vertical-align: middle;\n",
       "    }\n",
       "\n",
       "    .dataframe tbody tr th {\n",
       "        vertical-align: top;\n",
       "    }\n",
       "\n",
       "    .dataframe thead th {\n",
       "        text-align: right;\n",
       "    }\n",
       "</style>\n",
       "<table border=\"1\" class=\"dataframe\">\n",
       "  <thead>\n",
       "    <tr style=\"text-align: right;\">\n",
       "      <th></th>\n",
       "      <th>source</th>\n",
       "      <th>hypothesis</th>\n",
       "      <th>reference</th>\n",
       "      <th>bleu</th>\n",
       "      <th>source_len</th>\n",
       "    </tr>\n",
       "  </thead>\n",
       "  <tbody>\n",
       "    <tr>\n",
       "      <th>24</th>\n",
       "      <td>Vous êtes chanceuse d'avoir un emploi.</td>\n",
       "      <td>You're lucky to have a job.</td>\n",
       "      <td>You're lucky to have a job.</td>\n",
       "      <td>100.000000</td>\n",
       "      <td>38</td>\n",
       "    </tr>\n",
       "    <tr>\n",
       "      <th>86</th>\n",
       "      <td>Je sais que tu veux rentrer chez toi.</td>\n",
       "      <td>I know you want to go home.</td>\n",
       "      <td>I know you want to go home.</td>\n",
       "      <td>100.000000</td>\n",
       "      <td>37</td>\n",
       "    </tr>\n",
       "    <tr>\n",
       "      <th>89</th>\n",
       "      <td>Je pense que Tom est réveillé.</td>\n",
       "      <td>I think Tom is awake.</td>\n",
       "      <td>I think Tom is awake.</td>\n",
       "      <td>100.000000</td>\n",
       "      <td>30</td>\n",
       "    </tr>\n",
       "    <tr>\n",
       "      <th>211</th>\n",
       "      <td>Je sais que vous êtes amoureux de moi !</td>\n",
       "      <td>I know you're in love with me!</td>\n",
       "      <td>I know you're in love with me.</td>\n",
       "      <td>84.089642</td>\n",
       "      <td>39</td>\n",
       "    </tr>\n",
       "    <tr>\n",
       "      <th>214</th>\n",
       "      <td>Comment suis-je supposé manger ?</td>\n",
       "      <td>How am I supposed to eat?</td>\n",
       "      <td>How am I supposed to eat?</td>\n",
       "      <td>100.000000</td>\n",
       "      <td>32</td>\n",
       "    </tr>\n",
       "    <tr>\n",
       "      <th>298</th>\n",
       "      <td>As-tu des questions ?</td>\n",
       "      <td>Do you have any questions?</td>\n",
       "      <td>Do you have any questions?</td>\n",
       "      <td>100.000000</td>\n",
       "      <td>21</td>\n",
       "    </tr>\n",
       "    <tr>\n",
       "      <th>307</th>\n",
       "      <td>Quelle est l'idée ?</td>\n",
       "      <td>What's the idea?</td>\n",
       "      <td>What's the idea?</td>\n",
       "      <td>100.000000</td>\n",
       "      <td>19</td>\n",
       "    </tr>\n",
       "    <tr>\n",
       "      <th>391</th>\n",
       "      <td>Je n'ai aucune idée de ce que nous sommes supp...</td>\n",
       "      <td>I have no idea what we're supposed to do.</td>\n",
       "      <td>I have no idea what we're supposed to do.</td>\n",
       "      <td>100.000000</td>\n",
       "      <td>57</td>\n",
       "    </tr>\n",
       "    <tr>\n",
       "      <th>470</th>\n",
       "      <td>Qu'êtes-vous censé faire ?</td>\n",
       "      <td>What are you supposed to do?</td>\n",
       "      <td>What are you supposed to do?</td>\n",
       "      <td>100.000000</td>\n",
       "      <td>26</td>\n",
       "    </tr>\n",
       "    <tr>\n",
       "      <th>476</th>\n",
       "      <td>Tom pourrait faire cela.</td>\n",
       "      <td>Tom could do that.</td>\n",
       "      <td>Tom could do that.</td>\n",
       "      <td>100.000000</td>\n",
       "      <td>24</td>\n",
       "    </tr>\n",
       "    <tr>\n",
       "      <th>485</th>\n",
       "      <td>Je suis désolée, je n'ai pas pu vous entendre.</td>\n",
       "      <td>I'm sorry, I couldn't hear you.</td>\n",
       "      <td>I'm sorry, I couldn't hear you.</td>\n",
       "      <td>100.000000</td>\n",
       "      <td>46</td>\n",
       "    </tr>\n",
       "  </tbody>\n",
       "</table>\n",
       "</div>"
      ],
      "text/plain": [
       "                                                source  \\\n",
       "24              Vous êtes chanceuse d'avoir un emploi.   \n",
       "86               Je sais que tu veux rentrer chez toi.   \n",
       "89                      Je pense que Tom est réveillé.   \n",
       "211            Je sais que vous êtes amoureux de moi !   \n",
       "214                   Comment suis-je supposé manger ?   \n",
       "298                              As-tu des questions ?   \n",
       "307                                Quelle est l'idée ?   \n",
       "391  Je n'ai aucune idée de ce que nous sommes supp...   \n",
       "470                         Qu'êtes-vous censé faire ?   \n",
       "476                           Tom pourrait faire cela.   \n",
       "485     Je suis désolée, je n'ai pas pu vous entendre.   \n",
       "\n",
       "                                    hypothesis  \\\n",
       "24                 You're lucky to have a job.   \n",
       "86                 I know you want to go home.   \n",
       "89                       I think Tom is awake.   \n",
       "211             I know you're in love with me!   \n",
       "214                  How am I supposed to eat?   \n",
       "298                 Do you have any questions?   \n",
       "307                           What's the idea?   \n",
       "391  I have no idea what we're supposed to do.   \n",
       "470               What are you supposed to do?   \n",
       "476                         Tom could do that.   \n",
       "485            I'm sorry, I couldn't hear you.   \n",
       "\n",
       "                                     reference        bleu  source_len  \n",
       "24                 You're lucky to have a job.  100.000000          38  \n",
       "86                 I know you want to go home.  100.000000          37  \n",
       "89                       I think Tom is awake.  100.000000          30  \n",
       "211             I know you're in love with me.   84.089642          39  \n",
       "214                  How am I supposed to eat?  100.000000          32  \n",
       "298                 Do you have any questions?  100.000000          21  \n",
       "307                           What's the idea?  100.000000          19  \n",
       "391  I have no idea what we're supposed to do.  100.000000          57  \n",
       "470               What are you supposed to do?  100.000000          26  \n",
       "476                         Tom could do that.  100.000000          24  \n",
       "485            I'm sorry, I couldn't hear you.  100.000000          46  "
      ]
     },
     "execution_count": 20,
     "metadata": {},
     "output_type": "execute_result"
    }
   ],
   "source": [
    "df[df[\"bleu\"] > 80]"
   ]
  }
 ],
 "metadata": {
  "interpreter": {
   "hash": "f1b7606d44c036d2dcdd13cfd54e2ae3c6cba7a3c75ad1bea855ee0bb71732ba"
  },
  "kernelspec": {
   "display_name": "Python 3.8.5 64-bit ('atmt36': venv)",
   "name": "python3"
  },
  "language_info": {
   "codemirror_mode": {
    "name": "ipython",
    "version": 3
   },
   "file_extension": ".py",
   "mimetype": "text/x-python",
   "name": "python",
   "nbconvert_exporter": "python",
   "pygments_lexer": "ipython3",
   "version": "3.8.5"
  },
  "orig_nbformat": 4
 },
 "nbformat": 4,
 "nbformat_minor": 2
}
